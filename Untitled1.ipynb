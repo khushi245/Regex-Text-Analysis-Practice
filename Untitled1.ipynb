{
 "cells": [
  {
   "cell_type": "code",
   "execution_count": 2,
   "metadata": {},
   "outputs": [],
   "source": [
    "import re\n",
    "import pandas as pd\n",
    "import numpy as np"
   ]
  },
  {
   "cell_type": "code",
   "execution_count": 3,
   "metadata": {},
   "outputs": [],
   "source": [
    "fh = open(r\"test_emails.txt\", \"r\").read()"
   ]
  },
  {
   "cell_type": "code",
   "execution_count": 46,
   "metadata": {},
   "outputs": [],
   "source": [
    "match=re.findall(\"From:.*\",fh)\n"
   ]
  },
  {
   "cell_type": "code",
   "execution_count": 47,
   "metadata": {},
   "outputs": [
    {
     "data": {
      "text/plain": [
       "['From: \"Mr. Ben Suleman\" <bensul2004nng@spinfinder.com>',\n",
       " 'From: \"PRINCE OBONG ELEME\" <obong_715@epatra.com>']"
      ]
     },
     "execution_count": 47,
     "metadata": {},
     "output_type": "execute_result"
    }
   ],
   "source": [
    "match"
   ]
  },
  {
   "cell_type": "code",
   "execution_count": 19,
   "metadata": {},
   "outputs": [
    {
     "name": "stdout",
     "output_type": "stream",
     "text": [
      "['\"Mr. Ben Suleman\"']\n",
      "['\"PRINCE OBONG ELEME\"']\n"
     ]
    }
   ],
   "source": [
    "for line in match:\n",
    "    print(re.findall('\\\".*\\\"',line))"
   ]
  },
  {
   "cell_type": "code",
   "execution_count": 43,
   "metadata": {},
   "outputs": [
    {
     "name": "stdout",
     "output_type": "stream",
     "text": [
      "['bensul2004nng@spinfinder.com']\n",
      "['obong_715@epatra.com']\n"
     ]
    }
   ],
   "source": [
    "for line in match:\n",
    "    print(re.findall(\"\\w*@.*\\w\", line))"
   ]
  },
  {
   "cell_type": "code",
   "execution_count": 48,
   "metadata": {},
   "outputs": [
    {
     "name": "stdout",
     "output_type": "stream",
     "text": [
      "<class 're.Match'>\n",
      "<class 'str'>\n",
      "<re.Match object; span=(204, 258), match='From: \"Mr. Ben Suleman\" <bensul2004nng@spinfinder>\n",
      "From: \"Mr. Ben Suleman\" <bensul2004nng@spinfinder.com>\n"
     ]
    }
   ],
   "source": [
    "match = re.search(\"From:.*\", fh)\n",
    "print(type(match))\n",
    "print(type(match.group()))\n",
    "print(match)\n",
    "print(match.group())"
   ]
  },
  {
   "cell_type": "code",
   "execution_count": 49,
   "metadata": {},
   "outputs": [],
   "source": [
    "address=re.findall(\"From:.*\",fh)"
   ]
  },
  {
   "cell_type": "code",
   "execution_count": 52,
   "metadata": {},
   "outputs": [
    {
     "name": "stdout",
     "output_type": "stream",
     "text": [
      "bensul2004nng, spinfinder.com\n",
      "obong_715, epatra.com\n"
     ]
    }
   ],
   "source": [
    "for items in address:\n",
    "    for line in re.findall(\"\\w\\S*@.*\\w\",items):\n",
    "        username,domain_name=re.split(\"@\",line)\n",
    "        print(\"{}, {}\".format(username,domain_name))\n",
    "        "
   ]
  },
  {
   "cell_type": "code",
   "execution_count": 53,
   "metadata": {},
   "outputs": [
    {
     "name": "stdout",
     "output_type": "stream",
     "text": [
      "From: \"Mr. Ben Suleman\" <bensul2004nng@spinfinder.com>\n",
      "Email: \"Mr. Ben Suleman\" <bensul2004nng@spinfinder.com>\n"
     ]
    }
   ],
   "source": [
    "sender=re.search(\"From:.*\",fh)\n",
    "address=sender.group()\n",
    "email=re.sub(\"From\",\"Email\",address)\n",
    "print(address)\n",
    "print(email)"
   ]
  },
  {
   "cell_type": "code",
   "execution_count": 94,
   "metadata": {},
   "outputs": [],
   "source": [
    "import re\n",
    "import pandas\n",
    "import email\n",
    "\n",
    "emails=[]\n",
    "fh=open(r\"test_emails.txt\",\"r\").read()"
   ]
  },
  {
   "cell_type": "code",
   "execution_count": 95,
   "metadata": {},
   "outputs": [],
   "source": [
    "contents=re.split(r\"From r\",fh)"
   ]
  },
  {
   "cell_type": "code",
   "execution_count": 96,
   "metadata": {},
   "outputs": [
    {
     "data": {
      "text/plain": [
       "''"
      ]
     },
     "execution_count": 96,
     "metadata": {},
     "output_type": "execute_result"
    }
   ],
   "source": [
    "contents.pop(0)"
   ]
  },
  {
   "cell_type": "code",
   "execution_count": 97,
   "metadata": {},
   "outputs": [],
   "source": [
    "for item in contents:\n",
    "    emails_dict={}\n",
    "    sender=re.search(r\"From:.*\",item)\n",
    "    if sender is not None:\n",
    "        s_email=re.search(r'\\w\\S*@.*\\w',sender.group())\n",
    "        s_name=re.search(r':.*<',sender.group())\n",
    "    else:\n",
    "        s_email=None\n",
    "        s_name=None\n",
    "    if s_email is not None:\n",
    "        sender_email=s_email.group()\n",
    "    else:\n",
    "        sender_email=None\n",
    "    emails_dict[\"sender_email\"]=sender_email\n",
    "    if s_name is not None:\n",
    "        sender_name=re.sub(\"s*<\",\"\",re.sub(\":s*\",\"\",s_name.group()))\n",
    "    emails_dict[\"sender_name\"]=sender_name\n",
    "    recipient=re.search(r'To:.*',item)\n",
    "    if recipient is not None:\n",
    "        r_email=re.search(r'\\w\\S*@.*\\w',recipient.group())\n",
    "        r_name=re.search(r':.*<',recipient.group())\n",
    "    else:\n",
    "        r_email=None\n",
    "        r_name=None\n",
    "    if r_email is not None:\n",
    "        recipient_email=r_email.group()\n",
    "    else:\n",
    "        recipient_email=None\n",
    "    emails_dict[\"recipient_email\"]=recipient_email\n",
    "    if r_name is not None:\n",
    "        recipient_name=re.sub(r'\\s*<',\"\",re.sub(r':\\s*',\"\",r_name.group()))\n",
    "    else:\n",
    "        recipeint_name=None\n",
    "    emails_dict[\"recipient_name\"]=recipeint_name\n",
    "    date_field=re.search(r'Date:.*',item)\n",
    "    if date_field is not None:\n",
    "        date=re.search(r\"\\d+\\s\\w+\\s\\d+\",date_field.group())\n",
    "    else:\n",
    "        date=None\n",
    "    if date is not None:\n",
    "        date_sent=date.group()\n",
    "    else:\n",
    "        date_sent=None\n",
    "    emails_dict[\"date_sent\"]=date_sent\n",
    "    subject_field=re.search(r\"Subject: .*\",item)\n",
    "    if subject_field is not None:\n",
    "        subject=re.sub(r\"Subject: \",\"\",subject_field.group())\n",
    "    else:\n",
    "        subject=None\n",
    "    emails_dict[\"subject\"]=subject\n",
    "    full_email = email.message_from_string(item)\n",
    "    body = full_email.get_payload()\n",
    "    emails_dict[\"email_body\"] = re.sub(\"\\n\",\". \",body)\n",
    "    emails.append(emails_dict)\n",
    "        \n",
    "        "
   ]
  },
  {
   "cell_type": "code",
   "execution_count": 98,
   "metadata": {},
   "outputs": [],
   "source": [
    "emails=pd.DataFrame(emails)"
   ]
  },
  {
   "cell_type": "code",
   "execution_count": 99,
   "metadata": {},
   "outputs": [
    {
     "data": {
      "text/html": [
       "<div>\n",
       "<style scoped>\n",
       "    .dataframe tbody tr th:only-of-type {\n",
       "        vertical-align: middle;\n",
       "    }\n",
       "\n",
       "    .dataframe tbody tr th {\n",
       "        vertical-align: top;\n",
       "    }\n",
       "\n",
       "    .dataframe thead th {\n",
       "        text-align: right;\n",
       "    }\n",
       "</style>\n",
       "<table border=\"1\" class=\"dataframe\">\n",
       "  <thead>\n",
       "    <tr style=\"text-align: right;\">\n",
       "      <th></th>\n",
       "      <th>sender_email</th>\n",
       "      <th>sender_name</th>\n",
       "      <th>recipient_email</th>\n",
       "      <th>recipient_name</th>\n",
       "      <th>date_sent</th>\n",
       "      <th>subject</th>\n",
       "      <th>email_body</th>\n",
       "    </tr>\n",
       "  </thead>\n",
       "  <tbody>\n",
       "    <tr>\n",
       "      <th>0</th>\n",
       "      <td>bensul2004nng@spinfinder.com</td>\n",
       "      <td>\"Mr. Ben Suleman\"</td>\n",
       "      <td>R@M</td>\n",
       "      <td>None</td>\n",
       "      <td>31 Oct 2002</td>\n",
       "      <td>URGENT ASSISTANCE /RELATIONSHIP (P)</td>\n",
       "      <td>Dear Friend,. . I am Mr. Ben Suleman a custom ...</td>\n",
       "    </tr>\n",
       "    <tr>\n",
       "      <th>1</th>\n",
       "      <td>obong_715@epatra.com</td>\n",
       "      <td>\"PRINCE OBONG ELEME\"</td>\n",
       "      <td>obong_715@epatra.com</td>\n",
       "      <td>None</td>\n",
       "      <td>31 Oct 2002</td>\n",
       "      <td>GOOD DAY TO YOU</td>\n",
       "      <td>FROM HIS ROYAL MAJESTY (HRM) CROWN RULER OF EL...</td>\n",
       "    </tr>\n",
       "  </tbody>\n",
       "</table>\n",
       "</div>"
      ],
      "text/plain": [
       "                   sender_email             sender_name       recipient_email  \\\n",
       "0  bensul2004nng@spinfinder.com      \"Mr. Ben Suleman\"                    R@M   \n",
       "1          obong_715@epatra.com   \"PRINCE OBONG ELEME\"   obong_715@epatra.com   \n",
       "\n",
       "  recipient_name    date_sent                              subject  \\\n",
       "0           None  31 Oct 2002  URGENT ASSISTANCE /RELATIONSHIP (P)   \n",
       "1           None  31 Oct 2002                      GOOD DAY TO YOU   \n",
       "\n",
       "                                          email_body  \n",
       "0  Dear Friend,. . I am Mr. Ben Suleman a custom ...  \n",
       "1  FROM HIS ROYAL MAJESTY (HRM) CROWN RULER OF EL...  "
      ]
     },
     "execution_count": 99,
     "metadata": {},
     "output_type": "execute_result"
    }
   ],
   "source": [
    "emails"
   ]
  },
  {
   "cell_type": "code",
   "execution_count": null,
   "metadata": {},
   "outputs": [],
   "source": []
  }
 ],
 "metadata": {
  "kernelspec": {
   "display_name": "Python 3",
   "language": "python",
   "name": "python3"
  },
  "language_info": {
   "codemirror_mode": {
    "name": "ipython",
    "version": 3
   },
   "file_extension": ".py",
   "mimetype": "text/x-python",
   "name": "python",
   "nbconvert_exporter": "python",
   "pygments_lexer": "ipython3",
   "version": "3.8.3"
  }
 },
 "nbformat": 4,
 "nbformat_minor": 4
}
